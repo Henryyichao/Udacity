{
 "cells": [
  {
   "cell_type": "markdown",
   "metadata": {},
   "source": [
    "### 1、第一个问题的input的设置"
   ]
  },
  {
   "cell_type": "code",
   "execution_count": null,
   "metadata": {},
   "outputs": [],
   "source": [
    "input([prompt])\n",
    "参数说明-prompt: 提示信息"
   ]
  },
  {
   "cell_type": "markdown",
   "metadata": {},
   "source": [
    "### 2、第二个问题time.time()是什么意思"
   ]
  },
  {
   "cell_type": "code",
   "execution_count": null,
   "metadata": {},
   "outputs": [],
   "source": [
    "返回当前时间的时间戳（1970纪元后经过的浮点秒数）。\n",
    "http://www.runoob.com/python/att-time-time.html"
   ]
  },
  {
   "cell_type": "markdown",
   "metadata": {},
   "source": [
    "### 3、如何将输出的dtype格式信息分行展示"
   ]
  },
  {
   "cell_type": "code",
   "execution_count": null,
   "metadata": {},
   "outputs": [],
   "source": [
    "在‘User Type’的输出中，所展示的格式是pandas Series。\n",
    "如何将其使用合适的方式展示出来？"
   ]
  },
  {
   "cell_type": "raw",
   "metadata": {},
   "source": [
    "官方文档很贴心了：\n",
    "# Object Type\tIndexers\n",
    "Series\ts.loc[indexer]\n",
    "DataFrame\tdf.loc[row_indexer,column_indexer]\n",
    "Panel\tp.loc[item_indexer,major_indexer,minor_indexer]\n",
    "https://pandas.pydata.org/pandas-docs/stable/indexing.html"
   ]
  },
  {
   "cell_type": "markdown",
   "metadata": {},
   "source": [
    "### 4、出现缺失值怎么办？"
   ]
  },
  {
   "cell_type": "code",
   "execution_count": null,
   "metadata": {},
   "outputs": [],
   "source": [
    "在‘Gender’和‘User Type’的项目下有很多NaN缺失值，在统计时如何处理？"
   ]
  },
  {
   "cell_type": "markdown",
   "metadata": {},
   "source": [
    "## 试运行除虫发现问题"
   ]
  },
  {
   "cell_type": "markdown",
   "metadata": {},
   "source": [
    "### 5、while 循环处的问题"
   ]
  },
  {
   "cell_type": "markdown",
   "metadata": {},
   "source": [
    "invalid syntax 原来是while和else都忘了冒号："
   ]
  },
  {
   "cell_type": "code",
   "execution_count": null,
   "metadata": {},
   "outputs": [],
   "source": [
    "#另外试运行以下真的很傻\n",
    "while city != \"chicago\" or city !=\"new york\" or city != \"washington\":\n",
    "    #这行代码是要把使用者逼上绝路啊\n",
    "    #or 改成 and "
   ]
  },
  {
   "cell_type": "markdown",
   "metadata": {},
   "source": [
    "### 6、未定义，数据调用不过来"
   ]
  },
  {
   "cell_type": "markdown",
   "metadata": {},
   "source": [
    "查看错误记录name 'city' is not defined，不在列表中的问题很诡异，应该是def get_filters()和def load_data(city, month, day)两个函数没有很好的衔接起来。"
   ]
  },
  {
   "cell_type": "markdown",
   "metadata": {},
   "source": [
    "1，如果说输入的最终结果return city, month, day 是一个元组的话，是不是单独调用city出现了问题呢？似乎不像，因为在def load_data(city, month, day)里同时调用了三个数据。和之前成功练习但区别就在于这里是load_data(city, month, day)，之前是df = load_data('chicago', 'march', 'friday')\n",
    "\n",
    "2,有没有可能是数据类型的问题？查询之前的案例df = pd.read_csv(filename)其中直接用字符串就可以读取，所以可能并不是数据类型问题。\n",
    "将get_filters()函数的代码保存为test.py,发现返回了字符串数据。但为什么仍然会说城市没有定义呢？\n",
    "\n",
    "3,有没有可能是几个csv文件没有一起导入？出现了调用缺失？将city直接换成'chicago'，发现调用并没有问题。\n",
    "\n",
    "4，一步步在test文件中还原函数调用，直到city, month, day = get_filters() print(city) print(CITY_DATA[city])都没有任何问题，说明可能是def load_data(city, month, day)出了问题。\n",
    "\n",
    "比如输出测试这三个值：\n",
    "print(CITY_DATA[city])  ---chicago.csv\n",
    "df = load_data(city, month, day) --None\n",
    "df1 = pd.read_csv(chicago.csv) ---not defined\n",
    "df2 = pd.read_csv(str(chicago.csv)) ---not defined\n",
    "df3 = pd.read_csv('chicago.csc')  ---right!\n",
    "\n",
    "莫非是自己对pd.read_csv（）方法有什么误解？\n",
    "\n",
    "（重读操作文档：http://pandas.pydata.org/pandas-docs/stable/io.html 再补充一下必要的参数，水真的好深：https://blog.csdn.net/u013066730/article/details/58634061）\n",
    "\n",
    "然后还是发现必须是字符串格式，所以强行加了'str'   df = pd.read_csv(str(CITY_DATA[city]))\n",
    "然后在test.py中运行成功，但是回到主文件再次失败。\n",
    "\n",
    "再次看报错，是71行，第二次出现df = pd.read_csv(str(CITY_DATA[city]))的时候\n",
    "time_stats(df)\n",
    "  File \"bikeshare.py\", line 71, in time_stats\n",
    "仔细一想，原来是自己没有弄清楚函数之间值传递关系。\n",
    "\n",
    "def main():\n",
    "    while True:\n",
    "        city, month, day = get_filters()\n",
    "\n",
    "        df = load_data(city, month, day)\n",
    "\n",
    "        time_stats(df)\n",
    "        station_stats(df)\n",
    "        trip_duration_stats(df)\n",
    "        user_stats(df)\n",
    "\n",
    "        restart = input('\\nWould you like to restart? Enter yes or no.\\n')\n",
    "        if restart.lower() != 'yes':\n",
    "            break\n",
    "            \n",
    "也就是说，在df的值出现之后，后面的函数都直接调用了df的数据，这个数据中并没有city的值，而且这时再使用pd.read_csv就显得很多此一举了。            "
   ]
  },
  {
   "cell_type": "markdown",
   "metadata": {},
   "source": [
    "## 审阅之后的问题"
   ]
  },
  {
   "cell_type": "markdown",
   "metadata": {},
   "source": [
    "### 7、容错率比较低"
   ]
  },
  {
   "cell_type": "markdown",
   "metadata": {},
   "source": [
    "代码没有考虑到输入大小写的问题。审阅教练建议全部小写化处理\n",
    "city = input('Chicago, new york city and washington, Which city would you like to explore? ').lower()"
   ]
  },
  {
   "cell_type": "markdown",
   "metadata": {},
   "source": [
    "### 8、数据集清点不认真"
   ]
  },
  {
   "cell_type": "markdown",
   "metadata": {},
   "source": [
    "华盛顿数据集中缺少 Gender 和 Birth Year 列，如果对华盛顿的数据集做这两列的统计计算，就会报错 KeyError。\n",
    "\n",
    "尝试用try except\n",
    "\n",
    "各种异常说明及排除方法 http://www.runoob.com/python/python-exceptions.html"
   ]
  },
  {
   "cell_type": "code",
   "execution_count": null,
   "metadata": {},
   "outputs": [],
   "source": [
    "try:\n",
    "            user_stats(df)\n",
    "        except KeyError:\n",
    "            print(\"Sorry,the Gender data of this city is missed.\")"
   ]
  },
  {
   "cell_type": "markdown",
   "metadata": {},
   "source": [
    "### 9、冗余太多"
   ]
  },
  {
   "cell_type": "code",
   "execution_count": null,
   "metadata": {},
   "outputs": [],
   "source": [
    "df['Start Time'] =  pd.to_datetime(df['Start Time'])\n",
    "#这样的操作进行了数次\n",
    "#关于这里的新建列的工作是有所冗余的，因为这个数据集在load_data函数中就已经进行这个列的新建工作了，这里就无需再次进行了。\n",
    "#但删去后，一开始会出现这个报错\n",
    " TypeError: 'NoneType' object is not subscriptable\n",
    "        #原因应该是数值没有传导过来,但在第一步筛选print结果就是none，所以应该是修改第一部分但结果\n",
    "        \n",
    "       #原来是删掉了 return df"
   ]
  },
  {
   "cell_type": "markdown",
   "metadata": {},
   "source": [
    "### 10、函数参数值输出"
   ]
  },
  {
   "cell_type": "code",
   "execution_count": null,
   "metadata": {},
   "outputs": [],
   "source": [
    "#经过审阅老师的指点，把第一部分城市、月份、周几的输入检验打包成函数\n",
    "def input_check(v_list, input_message, error_message):\n",
    "        while input_message not in v_list:\n",
    "            print(error_message)\n",
    "            new1 = input('try again\\n')\n",
    "            input_message=input_message.replace(input_message,new1)\n",
    "        return input_message"
   ]
  },
  {
   "cell_type": "code",
   "execution_count": null,
   "metadata": {},
   "outputs": [],
   "source": [
    "##但最大的问题是，出错后更新的参数值，无法返回到原先的数据中。\n",
    "\n",
    "#猜测1、可能是while 循环的判断问题，当变量满足值之后直接跳走，没有输出新的值。在while之前或者输入之后增加v的值还是没有起色。\n",
    "    #由于函数要赋给city，month，和day三部分的值，所以也不好直接指定。\n",
    "    #最终借助while else 把输出限定在正确值\n",
    "    \n",
    "#猜测2、也有可能是从input_check到get_filters()传导结构的问题。\n",
    "    #将原来简单的return v,city=v.替换为\n",
    "    city = input_check(CITY_DATA.keys(),\"Would you like to see data for Chicago,New York,or Washington?\\n\",\"please choose from the Chicago,New York and Washington.\")\n",
    "    #出现ValueError: None is not in list的问题\n",
    "    def input_check(v_list, input_message, error_message):\n",
    "    v = input(input_message).lower()\n",
    "    while v not in v_list:\n",
    "        print(error_message)\n",
    "        v = input(\"try again.\\n\").lower()\n",
    "    else:\n",
    "        return v\n",
    "    #结合while出现满足值之后就跳走的特征，把否定条件前置。\n",
    "    \n",
    "##猜测3、是否与不可变对象，函数改变不了参数的值有关。\n",
    "    #所以尝试用replace替换。http://www.cnblogs.com/monkey-moon/p/9347505.html\n",
    "    #https://blog.csdn.net/together_cz/article/details/70172083\n",
    "\n",
    "    #当然，后来换成下面的直接赋值一点问题也没有。\n",
    "v = input(\"try again.\\n\").lower()"
   ]
  },
  {
   "cell_type": "markdown",
   "metadata": {},
   "source": [
    "这部分攻关最大的收获就是加深了对于函数和循环的理解。比如所有有规律的代码其实都有成为函数的潜质。而结合循环、输入的函数其实可以非常高效。之前对于break、continue等循环结构不是很清楚，这次也了解了大体的使用情景。"
   ]
  }
 ],
 "metadata": {
  "kernelspec": {
   "display_name": "Python 3",
   "language": "python",
   "name": "python3"
  },
  "language_info": {
   "codemirror_mode": {
    "name": "ipython",
    "version": 3
   },
   "file_extension": ".py",
   "mimetype": "text/x-python",
   "name": "python",
   "nbconvert_exporter": "python",
   "pygments_lexer": "ipython3",
   "version": "3.6.6"
  }
 },
 "nbformat": 4,
 "nbformat_minor": 2
}
